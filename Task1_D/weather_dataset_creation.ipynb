{
 "cells": [
  {
   "cell_type": "code",
   "execution_count": 1,
   "id": "7c8e8141",
   "metadata": {},
   "outputs": [],
   "source": [
    "indian_cities = [\n",
    "    \"Mumbai\", \"Delhi\", \"Bangalore\", \"Hyderabad\", \"Chennai\", \n",
    "    \"Kolkata\", \"Jaipur\", \"Ahmedabad\", \"Pune\", \"Surat\", \n",
    "    \"Lucknow\", \"Kanpur\", \"Nagpur\", \"Indore\", \"Thane\", \n",
    "    \"Bhopal\", \"Visakhapatnam\", \"Patna\", \"Vadodara\", \"Ghaziabad\"\n",
    "]\n"
   ]
  },
  {
   "cell_type": "code",
   "execution_count": 2,
   "id": "a8c53de8",
   "metadata": {},
   "outputs": [],
   "source": [
    "city_coordinates = {\n",
    "    \"Mumbai\": (19.075983, 72.877655),\n",
    "    \"Delhi\": (28.704060, 77.102493),\n",
    "    \"Bangalore\": (12.971599, 77.594573),\n",
    "    \"Hyderabad\": (17.385044, 78.486671),\n",
    "    \"Chennai\": (13.082680, 80.270721),\n",
    "    \"Kolkata\": (22.572645, 88.363895),\n",
    "    \"Jaipur\": (26.912433, 75.787270),\n",
    "    \"Ahmedabad\": (23.022505, 72.571362),\n",
    "    \"Pune\": (18.520430, 73.856744),\n",
    "    \"Surat\": (21.170240, 72.831060),\n",
    "    \"Lucknow\": (26.846693, 80.946167),\n",
    "    \"Kanpur\": (26.449000, 80.331890),\n",
    "    \"Nagpur\": (21.145800, 79.084930),\n",
    "    \"Indore\": (22.719570, 75.857730),\n",
    "    \"Thane\": (19.197000, 72.963600),\n",
    "    \"Bhopal\": (23.259933, 77.412615),\n",
    "    \"Visakhapatnam\": (17.686810, 83.218480),\n",
    "    \"Patna\": (25.594090, 85.137580),\n",
    "    \"Vadodara\": (22.307160, 73.181220),\n",
    "    \"Ghaziabad\": (28.662000, 77.437700)\n",
    "}\n"
   ]
  },
  {
   "cell_type": "code",
   "execution_count": 5,
   "id": "c7f6dd12",
   "metadata": {},
   "outputs": [
    {
     "name": "stdout",
     "output_type": "stream",
     "text": [
      "Successfully fetched data for Mumbai\n",
      "Successfully fetched data for Delhi\n",
      "Successfully fetched data for Bangalore\n",
      "Successfully fetched data for Hyderabad\n",
      "Successfully fetched data for Chennai\n",
      "Successfully fetched data for Kolkata\n",
      "Successfully fetched data for Jaipur\n",
      "Successfully fetched data for Ahmedabad\n",
      "Successfully fetched data for Pune\n",
      "Successfully fetched data for Surat\n",
      "Successfully fetched data for Lucknow\n",
      "Successfully fetched data for Kanpur\n",
      "Successfully fetched data for Nagpur\n",
      "Successfully fetched data for Indore\n",
      "Successfully fetched data for Thane\n",
      "Successfully fetched data for Bhopal\n",
      "Successfully fetched data for Visakhapatnam\n",
      "Successfully fetched data for Patna\n",
      "Successfully fetched data for Vadodara\n",
      "Successfully fetched data for Ghaziabad\n",
      "Weather data collection complete. Data saved to weather_dataset/indian_cities_weather_data.csv\n"
     ]
    }
   ],
   "source": [
    "import requests\n",
    "import pandas as pd\n",
    "import time\n",
    "from datetime import datetime\n",
    "import os\n",
    "# OpenWeatherMap API configuration\n",
    "API_KEY = \"878493241c4c469337ec33af3ac8e023\"\n",
    "BASE_URL = \"http://api.openweathermap.org/data/2.5/weather\"\n",
    "\n",
    "# Create a directory for the dataset\n",
    "os.makedirs(\"weather_dataset\", exist_ok=True)\n",
    "\n",
    "# Initialize an empty list to store weather data\n",
    "weather_data = []\n",
    "\n",
    "# Function to get weather data for a city\n",
    "def get_weather(city, lat, lon):\n",
    "    params = {\n",
    "        \"lat\": lat,\n",
    "        \"lon\": lon,\n",
    "        \"appid\": API_KEY,\n",
    "        \"units\": \"metric\"  # For Celsius temperature\n",
    "    }\n",
    "    \n",
    "    response = requests.get(BASE_URL, params=params)\n",
    "    data = response.json()\n",
    "    \n",
    "    if response.status_code == 200:\n",
    "        weather_data.append({\n",
    "            \"city\": city,\n",
    "            \"timestamp\": datetime.now().strftime(\"%Y-%m-%d %H:%M:%S\"),\n",
    "            \"temperature\": data[\"main\"][\"temp\"],\n",
    "            \"humidity\": data[\"main\"][\"humidity\"],\n",
    "            \"wind_speed\": data[\"wind\"][\"speed\"],\n",
    "            \"weather_condition\": data[\"weather\"][0][\"main\"],\n",
    "            \"weather_description\": data[\"weather\"][0][\"description\"]\n",
    "        })\n",
    "        \n",
    "        print(f\"Successfully fetched data for {city}\")\n",
    "        \n",
    "    else:\n",
    "        print(f\"Error fetching data for {city}: {data.get('message', 'Unknown error')}\")\n",
    "\n",
    "# Collect data for all cities\n",
    "for city, (lat, lon) in city_coordinates.items():\n",
    "    get_weather(city, lat, lon)\n",
    "\n",
    "# Save data to CSV\n",
    "weather_df = pd.DataFrame(weather_data)\n",
    "weather_df.to_csv(\"weather_dataset/indian_cities_weather_data.csv\", index=False)\n",
    "\n",
    "print(\"Weather data collection complete. Data saved to weather_dataset/indian_cities_weather_data.csv\")\n"
   ]
  },
  {
   "cell_type": "markdown",
   "id": "711b4627",
   "metadata": {},
   "source": [
    "Run this cell for periodic data collection"
   ]
  },
  {
   "cell_type": "code",
   "execution_count": null,
   "id": "d75452ce",
   "metadata": {},
   "outputs": [],
   "source": [
    "import schedule\n",
    "import time\n",
    "\n",
    "def collect_weather_data():\n",
    "    # Call the function to collect data here\n",
    "    for city, (lat, lon) in city_coordinates.items():\n",
    "        get_weather(city, lat, lon)\n",
    "    \n",
    "    # Save data to CSV with a timestamp in the filename\n",
    "    timestamp = datetime.now().strftime(\"%Y-%m-%d_%H-%M-%S\")\n",
    "    weather_df = pd.DataFrame(weather_data)\n",
    "    weather_df.to_csv(f\"weather_dataset/weather_data_{timestamp}.csv\", index=False)\n",
    "\n",
    "# Schedule the function to run daily at 08:00\n",
    "schedule.every().day.at(\"08:00\").do(collect_weather_data)\n",
    "\n",
    "while True:\n",
    "    schedule.run_pending()\n",
    "    time.sleep(1)\n"
   ]
  }
 ],
 "metadata": {
  "kernelspec": {
   "display_name": "Python 3 (ipykernel)",
   "language": "python",
   "name": "python3"
  },
  "language_info": {
   "codemirror_mode": {
    "name": "ipython",
    "version": 3
   },
   "file_extension": ".py",
   "mimetype": "text/x-python",
   "name": "python",
   "nbconvert_exporter": "python",
   "pygments_lexer": "ipython3",
   "version": "3.10.9"
  }
 },
 "nbformat": 4,
 "nbformat_minor": 5
}
