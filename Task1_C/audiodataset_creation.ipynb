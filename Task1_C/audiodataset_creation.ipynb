{
 "cells": [
  {
   "cell_type": "code",
   "execution_count": 8,
   "id": "2a4b1527",
   "metadata": {},
   "outputs": [
    {
     "name": "stdout",
     "output_type": "stream",
     "text": [
      "Requirement already satisfied: pydub in c:\\users\\91834\\anaconda3\\lib\\site-packages (0.25.1)\n",
      "Requirement already satisfied: requests in c:\\users\\91834\\anaconda3\\lib\\site-packages (2.28.1)\n",
      "Collecting ffmpeg-python\n",
      "  Downloading ffmpeg_python-0.2.0-py3-none-any.whl (25 kB)\n",
      "Requirement already satisfied: pandas in c:\\users\\91834\\anaconda3\\lib\\site-packages (1.5.3)\n",
      "Requirement already satisfied: charset-normalizer<3,>=2 in c:\\users\\91834\\anaconda3\\lib\\site-packages (from requests) (2.0.4)\n",
      "Requirement already satisfied: urllib3<1.27,>=1.21.1 in c:\\users\\91834\\anaconda3\\lib\\site-packages (from requests) (1.26.14)\n",
      "Requirement already satisfied: idna<4,>=2.5 in c:\\users\\91834\\anaconda3\\lib\\site-packages (from requests) (3.4)\n",
      "Requirement already satisfied: certifi>=2017.4.17 in c:\\users\\91834\\anaconda3\\lib\\site-packages (from requests) (2024.2.2)\n",
      "Requirement already satisfied: future in c:\\users\\91834\\anaconda3\\lib\\site-packages (from ffmpeg-python) (0.18.3)\n",
      "Requirement already satisfied: pytz>=2020.1 in c:\\users\\91834\\anaconda3\\lib\\site-packages (from pandas) (2022.7)\n",
      "Requirement already satisfied: python-dateutil>=2.8.1 in c:\\users\\91834\\anaconda3\\lib\\site-packages (from pandas) (2.8.2)\n",
      "Requirement already satisfied: numpy>=1.21.0 in c:\\users\\91834\\anaconda3\\lib\\site-packages (from pandas) (1.23.5)\n",
      "Requirement already satisfied: six>=1.5 in c:\\users\\91834\\anaconda3\\lib\\site-packages (from python-dateutil>=2.8.1->pandas) (1.16.0)\n",
      "Installing collected packages: ffmpeg-python\n",
      "Successfully installed ffmpeg-python-0.2.0\n"
     ]
    }
   ],
   "source": [
    "!pip install pydub requests ffmpeg-python pandas"
   ]
  },
  {
   "cell_type": "code",
   "execution_count": 15,
   "id": "9ec3c85f",
   "metadata": {},
   "outputs": [],
   "source": [
    "radio_stations = {\n",
    "    \"BBC World Service\": \"http://stream.live.vc.bbcmedia.co.uk/bbc_world_service\",\n",
    "    \"NPR News\": \"https://npr-ice.streamguys1.com/live.mp3\",\n",
    "    \"Classical Radio\": \"http://stream.wqxr.org/wqxr\"\n",
    "}"
   ]
  },
  {
   "cell_type": "code",
   "execution_count": 16,
   "id": "7aae7681",
   "metadata": {},
   "outputs": [
    {
     "name": "stdout",
     "output_type": "stream",
     "text": [
      "Error recording BBC World Service: [WinError 2] The system cannot find the file specified\n",
      "Error recording NPR News: [WinError 2] The system cannot find the file specified\n",
      "Error recording Classical Radio: [WinError 2] The system cannot find the file specified\n",
      "Error recording BBC World Service: [WinError 2] The system cannot find the file specified\n",
      "Error recording NPR News: [WinError 2] The system cannot find the file specified\n",
      "Error recording Classical Radio: [WinError 2] The system cannot find the file specified\n",
      "Error recording BBC World Service: [WinError 2] The system cannot find the file specified\n",
      "Error recording NPR News: [WinError 2] The system cannot find the file specified\n",
      "Error recording Classical Radio: [WinError 2] The system cannot find the file specified\n",
      "Error recording BBC World Service: [WinError 2] The system cannot find the file specified\n",
      "Error recording NPR News: [WinError 2] The system cannot find the file specified\n",
      "Error recording Classical Radio: [WinError 2] The system cannot find the file specified\n",
      "Error recording BBC World Service: HTTPConnectionPool(host='stream.live.vc.bbcmedia.co.uk', port=80): Read timed out.\n",
      "Error recording NPR News: HTTPSConnectionPool(host='npr-ice.streamguys1.com', port=443): Max retries exceeded with url: /live.mp3 (Caused by NewConnectionError('<urllib3.connection.HTTPSConnection object at 0x0000026583130BE0>: Failed to establish a new connection: [Errno 11001] getaddrinfo failed'))\n",
      "Error recording Classical Radio: [WinError 2] The system cannot find the file specified\n",
      "Error recording BBC World Service: HTTPConnectionPool(host='stream.live.vc.bbcmedia.co.uk', port=80): Read timed out.\n",
      "Error recording NPR News: HTTPSConnectionPool(host='npr-ice.streamguys1.com', port=443): Read timed out.\n",
      "Error recording Classical Radio: HTTPConnectionPool(host='stream.wqxr.org', port=80): Max retries exceeded with url: /wqxr (Caused by NewConnectionError('<urllib3.connection.HTTPConnection object at 0x00000265831339A0>: Failed to establish a new connection: [Errno 11001] getaddrinfo failed'))\n",
      "Error recording BBC World Service: HTTPConnectionPool(host='stream.live.vc.bbcmedia.co.uk', port=80): Read timed out.\n",
      "Error recording NPR News: HTTPSConnectionPool(host='npr-ice.streamguys1.com', port=443): Max retries exceeded with url: /live.mp3 (Caused by NewConnectionError('<urllib3.connection.HTTPSConnection object at 0x0000026583133D60>: Failed to establish a new connection: [Errno 11001] getaddrinfo failed'))\n",
      "Error recording Classical Radio: HTTPConnectionPool(host='stream.wqxr.org', port=80): Max retries exceeded with url: /wqxr (Caused by NewConnectionError('<urllib3.connection.HTTPConnection object at 0x0000026583133D30>: Failed to establish a new connection: [Errno 11001] getaddrinfo failed'))\n",
      "Error recording BBC World Service: HTTPConnectionPool(host='stream.live.vc.bbcmedia.co.uk', port=80): Read timed out.\n",
      "Error recording NPR News: HTTPSConnectionPool(host='npr-ice.streamguys1.com', port=443): Max retries exceeded with url: /live.mp3 (Caused by NewConnectionError('<urllib3.connection.HTTPSConnection object at 0x00000265831309A0>: Failed to establish a new connection: [Errno 11001] getaddrinfo failed'))\n",
      "Error recording Classical Radio: HTTPConnectionPool(host='stream.wqxr.org', port=80): Max retries exceeded with url: /wqxr (Caused by NewConnectionError('<urllib3.connection.HTTPConnection object at 0x0000026583130A30>: Failed to establish a new connection: [Errno 11001] getaddrinfo failed'))\n",
      "Error recording BBC World Service: HTTPConnectionPool(host='stream.live.vc.bbcmedia.co.uk', port=80): Read timed out.\n",
      "Error recording NPR News: HTTPSConnectionPool(host='npr-ice.streamguys1.com', port=443): Read timed out.\n",
      "Error recording Classical Radio: HTTPConnectionPool(host='stream.wqxr.org', port=80): Max retries exceeded with url: /wqxr (Caused by NewConnectionError('<urllib3.connection.HTTPConnection object at 0x00000265830533A0>: Failed to establish a new connection: [Errno 11001] getaddrinfo failed'))\n",
      "Error recording BBC World Service: HTTPConnectionPool(host='stream.live.vc.bbcmedia.co.uk', port=80): Max retries exceeded with url: /bbc_world_service (Caused by NewConnectionError('<urllib3.connection.HTTPConnection object at 0x0000026583053520>: Failed to establish a new connection: [Errno 11001] getaddrinfo failed'))\n",
      "Error recording NPR News: HTTPSConnectionPool(host='npr-ice.streamguys1.com', port=443): Max retries exceeded with url: /live.mp3 (Caused by NewConnectionError('<urllib3.connection.HTTPSConnection object at 0x0000026583051B40>: Failed to establish a new connection: [Errno 11001] getaddrinfo failed'))\n",
      "Error recording Classical Radio: HTTPConnectionPool(host='stream.wqxr.org', port=80): Read timed out.\n",
      "Audio recording completed!\n"
     ]
    }
   ],
   "source": [
    "import os\n",
    "import time\n",
    "import requests\n",
    "import pandas as pd\n",
    "from pydub import AudioSegment\n",
    "from pydub.playback import play\n",
    "\n",
    "\n",
    "# Output folder\n",
    "output_folder = \"audio_dataset\"\n",
    "os.makedirs(output_folder, exist_ok=True)\n",
    "\n",
    "# CSV file to store metadata\n",
    "csv_filename = os.path.join(output_folder, \"metadata.csv\")\n",
    "\n",
    "# Function to record and save audio\n",
    "def record_audio(station_name, url, duration=30):\n",
    "    try:\n",
    "        response = requests.get(url, stream=True, timeout=10)\n",
    "        \n",
    "        if response.status_code != 200:\n",
    "            print(f\"Failed to access {url}\")\n",
    "            return None\n",
    "\n",
    "        # Save the raw audio data\n",
    "        audio_path = os.path.join(output_folder, f\"{station_name.replace(' ', '_')}_{int(time.time())}.mp3\")\n",
    "        with open(audio_path, \"wb\") as audio_file:\n",
    "            start_time = time.time()\n",
    "            for chunk in response.iter_content(chunk_size=1024):\n",
    "                if time.time() - start_time > duration:\n",
    "                    break\n",
    "                audio_file.write(chunk)\n",
    "\n",
    "        # Convert to WAV format\n",
    "        audio_wav_path = audio_path.replace(\".mp3\", \".wav\")\n",
    "        audio = AudioSegment.from_mp3(audio_path)\n",
    "        audio.export(audio_wav_path, format=\"wav\")\n",
    "\n",
    "        return station_name, audio_wav_path,start_time ,duration\n",
    "\n",
    "    except Exception as e:\n",
    "        print(f\"Error recording {station_name}: {e}\")\n",
    "        return None\n",
    "\n",
    "# Store metadata\n",
    "metadata = []\n",
    "\n",
    "for i in range(1,11):\n",
    "    for station, url in radio_stations.items():\n",
    "        result = record_audio(station, url, duration = 30)\n",
    "        if result:\n",
    "            metadata.append(result)\n",
    "\n",
    "# Save metadata to CSV\n",
    "df = pd.DataFrame(metadata, columns=[\"Station Name\", \"File Path\", \"Time Stamp\",\"Duration (sec)\"])\n",
    "df.to_csv(csv_filename, index=False)\n",
    "\n",
    "print(\"Audio recording completed!\")"
   ]
  }
 ],
 "metadata": {
  "kernelspec": {
   "display_name": "Python 3 (ipykernel)",
   "language": "python",
   "name": "python3"
  },
  "language_info": {
   "codemirror_mode": {
    "name": "ipython",
    "version": 3
   },
   "file_extension": ".py",
   "mimetype": "text/x-python",
   "name": "python",
   "nbconvert_exporter": "python",
   "pygments_lexer": "ipython3",
   "version": "3.10.9"
  }
 },
 "nbformat": 4,
 "nbformat_minor": 5
}
