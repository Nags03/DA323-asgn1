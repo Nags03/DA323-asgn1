{
 "cells": [
  {
   "cell_type": "code",
   "execution_count": 6,
   "id": "2a486a55",
   "metadata": {},
   "outputs": [],
   "source": [
    "import requests\n",
    "from bs4 import BeautifulSoup\n",
    "import re\n",
    "\n",
    "def extract_text(url):\n",
    "    try:\n",
    "        response = requests.get(url)\n",
    "        soup = BeautifulSoup(response.text, 'html.parser')\n",
    "        \n",
    "        # Remove all script and style elements\n",
    "        for script in soup([\"script\", \"style\"]):\n",
    "            script.decompose()\n",
    "        \n",
    "        # Get text from the BeautifulSoup object\n",
    "        text = soup.get_text()\n",
    "        \n",
    "        # Break into lines and remove leading and trailing space on each\n",
    "        lines = (line.strip() for line in text.splitlines())\n",
    "        \n",
    "        # Break multi-headlines into a line each\n",
    "        chunks = (phrase.strip() for line in lines for phrase in line.split(\"  \"))\n",
    "        \n",
    "        # Drop blank lines\n",
    "        text = '\\n'.join(chunk for chunk in chunks if chunk)\n",
    "        \n",
    "        return text\n",
    "    except Exception as e:\n",
    "        print(f\"Error fetching {url}: {e}\")\n",
    "        return \"\""
   ]
  },
  {
   "cell_type": "code",
   "execution_count": 7,
   "id": "b8106d33",
   "metadata": {},
   "outputs": [],
   "source": [
    "# Assuming categories and their respective URLs are stored in a dictionary\n",
    "categories = {\n",
    "    \"Technology\": [\"https://techcrunch.com\", \"https://theverge.com\", \"https://wired.com\"],\n",
    "    \"Health\": [\"https://mayoclinic.org\", \"https://healthline.com\", \"https://medlineplus.gov\"],\n",
    "    \"Sports\": [\"https://espn.com\", \"https://foxsports.com\", \"https://sportsillustrated.com\"],\n",
    "    \"Finance\": [\"https://bloomberg.com\", \"https://forbes.com\", \"https://cnbc.com\"],\n",
    "    \"Travel\": [\"https://lonelyplanet.com\", \"https://tripadvisor.com\", \"https://travelandleisure.com\"],\n",
    "    \"Education\": [\"https://coursera.org\", \"https://edx.org\", \"https://khanacademy.org\"],\n",
    "    \"Food\": [\"https://epicurious.com\", \"https://foodnetwork.com\", \"https://allrecipes.com\"],\n",
    "    \"Fashion\": [\"https://vogue.com\", \"https://elle.com\", \"https://harpersbazaar.com\"],\n",
    "    \"Politics\": [\"https://cnn.com/politics\", \"https://nytimes.com/section/politics\", \"https://bbc.com/news/politics\"],\n",
    "    \"Entertainment\": [\"https://variety.com\", \"https://hollywoodreporter.com\", \"https://rollingstone.com\"],\n",
    "    \"Science\": [\"https://sciencemag.org\", \"https://nature.com\", \"https://scientificamerican.com\"],\n",
    "    \"Business\": [\"https://hbr.org\", \"https://entrepreneur.com\", \"https://inc.com\"],\n",
    "    \"Environment\": [\"https://nationalgeographic.org\", \"https://theguardian.com/environment\", \"https://edf.org\"],\n",
    "    \"History\": [\"https://history.com\", \"https://smithsonianmag.com\", \"https://bbc.com/history\"],\n",
    "    \"Art\": [\"https://theartnewspaper.com\", \"https://artnet.com\", \"https://artsy.net\"],\n",
    "    \"Music\": [\"https://pitchfork.com\", \"https://nme.com\", \"https://billboard.com\"],\n",
    "    \"Gaming\": [\"https://ign.com\", \"https://gamespot.com\", \"https://polygon.com\"],\n",
    "    \"Automotive\": [\"https://caranddriver.com\", \"https://motortrend.com\", \"https://autocar.co.uk\"],\n",
    "    \"Real Estate\": [\"https://zillow.com\", \"https://realtor.com\", \"https://redfin.com\"],\n",
    "    \"Law\": [\"https://findlaw.com\", \"https://law.com\", \"https://justia.com\"],\n",
    "}"
   ]
  },
  {
   "cell_type": "code",
   "execution_count": 9,
   "id": "459e7006",
   "metadata": {},
   "outputs": [],
   "source": [
    "import nltk\n",
    "from nltk.corpus import stopwords\n",
    "import re\n",
    "\n",
    "def clean_text(text):\n",
    "    # Remove HTML tags\n",
    "    text = re.sub(r'<.*?>', '', text)\n",
    "    \n",
    "    # Convert to lowercase\n",
    "    text = text.lower()\n",
    "    \n",
    "    # Remove punctuation\n",
    "    text = re.sub(r'[^\\w\\s]', '', text)\n",
    "    \n",
    "    # Remove stop words\n",
    "    stop_words = set(stopwords.words('english'))\n",
    "    words = text.split()\n",
    "    filtered_text = [word for word in words if word not in stop_words]\n",
    "    \n",
    "    return ' '.join(filtered_text)"
   ]
  },
  {
   "cell_type": "code",
   "execution_count": 11,
   "id": "d94c427b",
   "metadata": {},
   "outputs": [
    {
     "name": "stdout",
     "output_type": "stream",
     "text": [
      "Error fetching https://sportsillustrated.com: HTTPSConnectionPool(host='sportsillustrated.com', port=443): Max retries exceeded with url: / (Caused by ConnectTimeoutError(<urllib3.connection.HTTPSConnection object at 0x0000016D97F55090>, 'Connection to sportsillustrated.com timed out. (connect timeout=None)'))\n",
      "Error fetching https://bbc.com/history: Exceeded 30 redirects.\n",
      "Error fetching https://ign.com: HTTPSConnectionPool(host='ign.com', port=443): Max retries exceeded with url: / (Caused by SSLError(SSLCertVerificationError(1, '[SSL: CERTIFICATE_VERIFY_FAILED] certificate verify failed: self signed certificate in certificate chain (_ssl.c:997)')))\n",
      "Error fetching https://gamespot.com: HTTPSConnectionPool(host='gamespot.com', port=443): Max retries exceeded with url: / (Caused by SSLError(SSLCertVerificationError(1, '[SSL: CERTIFICATE_VERIFY_FAILED] certificate verify failed: self signed certificate in certificate chain (_ssl.c:997)')))\n"
     ]
    }
   ],
   "source": [
    "import os\n",
    "\n",
    "def store_text_file(categories):\n",
    "    dataset_dir = \"./text_dataset\"\n",
    "    if not os.path.exists(dataset_dir):\n",
    "        os.makedirs(dataset_dir)\n",
    "\n",
    "    for category, urls in categories.items():\n",
    "        # Combine text from all URLs into one file per category\n",
    "        combined_text = \"\"\n",
    "        for url in urls:\n",
    "            text = extract_text(url)\n",
    "            combined_text += text + \"\\n\\n\"  # Separate texts with newlines\n",
    "\n",
    "        # Clean the combined text after all URLs are processed\n",
    "        combined_text = clean_text(combined_text)\n",
    "\n",
    "        filename = f\"{dataset_dir}/{category}.txt\"\n",
    "        with open(filename, 'w', encoding='utf-8') as file:\n",
    "            file.write(combined_text)\n",
    "\n",
    "store_text_file(categories)\n"
   ]
  },
  {
   "cell_type": "code",
   "execution_count": null,
   "id": "43bb6721",
   "metadata": {},
   "outputs": [],
   "source": []
  }
 ],
 "metadata": {
  "kernelspec": {
   "display_name": "Python 3 (ipykernel)",
   "language": "python",
   "name": "python3"
  },
  "language_info": {
   "codemirror_mode": {
    "name": "ipython",
    "version": 3
   },
   "file_extension": ".py",
   "mimetype": "text/x-python",
   "name": "python",
   "nbconvert_exporter": "python",
   "pygments_lexer": "ipython3",
   "version": "3.10.9"
  }
 },
 "nbformat": 4,
 "nbformat_minor": 5
}
